{
 "cells": [
  {
   "cell_type": "code",
   "execution_count": 38,
   "id": "8913ae6f-16cd-4c33-878d-b5e0d0cb279b",
   "metadata": {},
   "outputs": [],
   "source": [
    "from jupyterlab_polus_render import Render"
   ]
  },
  {
   "cell_type": "code",
   "execution_count": 39,
   "id": "faed3bd8-5381-45ff-9441-28b82bcd1af5",
   "metadata": {},
   "outputs": [],
   "source": [
    "w = Render(imagePath = 'https://viv-demo.storage.googleapis.com/LuCa-7color_3x3component_data.ome.tif')"
   ]
  },
  {
   "cell_type": "code",
   "execution_count": 40,
   "id": "796b0bd3-514c-4e81-933f-61751cfc85f5",
   "metadata": {},
   "outputs": [
    {
     "data": {
      "application/vnd.jupyter.widget-view+json": {
       "model_id": "bb07258fd0b341438dfa07d7f63b693b",
       "version_major": 2,
       "version_minor": 0
      },
      "text/plain": [
       "Render(imagePath='https://viv-demo.storage.googleapis.com/LuCa-7color_3x3component_data.ome.tif', is_imagePath…"
      ]
     },
     "execution_count": 40,
     "metadata": {},
     "output_type": "execute_result"
    }
   ],
   "source": [
    "w"
   ]
  },
  {
   "cell_type": "code",
   "execution_count": 24,
   "id": "c1c1bbea-00d4-495b-bf96-7f7c9ae08104",
   "metadata": {},
   "outputs": [
    {
     "data": {
      "text/plain": [
       "'/Users/taletskiyk2/git/jupyterlab-extensions/jupyterlab_polus_render/examples/../images/LuCa-7color_3x3component_data.ome.tif'"
      ]
     },
     "execution_count": 24,
     "metadata": {},
     "output_type": "execute_result"
    }
   ],
   "source": [
    "w.imagePath"
   ]
  },
  {
   "cell_type": "code",
   "execution_count": 21,
   "id": "2b528a6c-a7ee-46a8-98af-ea4aa2251ce0",
   "metadata": {},
   "outputs": [
    {
     "data": {
      "text/plain": [
       "'/Users/taletskiyk2/git/jupyterlab-extensions/jupyterlab_polus_render/examples'"
      ]
     },
     "execution_count": 21,
     "metadata": {},
     "output_type": "execute_result"
    }
   ],
   "source": [
    "w.overlayPath"
   ]
  },
  {
   "cell_type": "code",
   "execution_count": 37,
   "id": "c625e700-76a8-4baa-87ae-cd8ff3214a0d",
   "metadata": {},
   "outputs": [
    {
     "data": {
      "text/plain": [
       "True"
      ]
     },
     "execution_count": 37,
     "metadata": {},
     "output_type": "execute_result"
    }
   ],
   "source": [
    "w.is_imagePath_url"
   ]
  },
  {
   "cell_type": "code",
   "execution_count": null,
   "id": "aa3e5d00-c02d-420b-81c2-9fbb9b87ea24",
   "metadata": {},
   "outputs": [],
   "source": []
  },
  {
   "cell_type": "code",
   "execution_count": 42,
   "id": "1ef25860-fb82-4d99-917a-6da0c3366767",
   "metadata": {},
   "outputs": [],
   "source": [
    "w.imagePath = '/Users/taletskiyk2/git/jupyterlab-extensions/jupyterlab_polus_render/images/LuCa-7color_3x3component_data.ome.tif'"
   ]
  },
  {
   "cell_type": "code",
   "execution_count": 41,
   "id": "641e3d48-db06-4e8d-9e62-bd01a65b3ae3",
   "metadata": {},
   "outputs": [],
   "source": [
    "w.is_imagePath_url = False"
   ]
  },
  {
   "cell_type": "code",
   "execution_count": null,
   "id": "fbb6fdf6-9434-48a9-8b2b-fe5fde1f48f3",
   "metadata": {},
   "outputs": [],
   "source": []
  }
 ],
 "metadata": {
  "kernelspec": {
   "display_name": "Python 3 (ipykernel)",
   "language": "python",
   "name": "python3"
  },
  "language_info": {
   "codemirror_mode": {
    "name": "ipython",
    "version": 3
   },
   "file_extension": ".py",
   "mimetype": "text/x-python",
   "name": "python",
   "nbconvert_exporter": "python",
   "pygments_lexer": "ipython3",
   "version": "3.10.13"
  }
 },
 "nbformat": 4,
 "nbformat_minor": 5
}

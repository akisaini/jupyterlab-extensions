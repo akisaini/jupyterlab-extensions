{
 "cells": [
  {
   "cell_type": "code",
   "execution_count": 1,
   "id": "8913ae6f-16cd-4c33-878d-b5e0d0cb279b",
   "metadata": {},
   "outputs": [],
   "source": [
    "from jupyterlab_polus_render import Render"
   ]
  },
  {
   "cell_type": "code",
   "execution_count": 2,
   "id": "faed3bd8-5381-45ff-9441-28b82bcd1af5",
   "metadata": {},
   "outputs": [],
   "source": [
    "w = Render(imagePath = 'https://viv-demo.storage.googleapis.com/LuCa-7color_3x3component_data.ome.tif')"
   ]
  },
  {
   "cell_type": "code",
   "execution_count": 3,
   "id": "8577bd86-d9fe-4993-8387-8d61be51de3d",
   "metadata": {
    "scrolled": true
   },
   "outputs": [
    {
     "data": {
      "application/vnd.jupyter.widget-view+json": {
       "model_id": "f753198ffecd4e2e95239a25805faa85",
       "version_major": 2,
       "version_minor": 0
      },
      "text/plain": [
       "Render(imagePath='https://viv-demo.storage.googleapis.com/LuCa-7color_3x3component_data.ome.tif', is_imagePath…"
      ]
     },
     "execution_count": 3,
     "metadata": {},
     "output_type": "execute_result"
    }
   ],
   "source": [
    "w"
   ]
  },
  {
   "cell_type": "code",
   "execution_count": 4,
   "id": "38aa1c44-c4ee-42a4-bfc3-e640f142c635",
   "metadata": {},
   "outputs": [],
   "source": [
    "w.imagePath = '../images/LuCa-7color_3x3component_data.ome.tif'"
   ]
  },
  {
   "cell_type": "code",
   "execution_count": 5,
   "id": "d24fa294-ab52-40b5-8275-4b75fe0b787d",
   "metadata": {},
   "outputs": [
    {
     "data": {
      "application/vnd.jupyter.widget-view+json": {
       "model_id": "f753198ffecd4e2e95239a25805faa85",
       "version_major": 2,
       "version_minor": 0
      },
      "text/plain": [
       "Render(imagePath='../images/LuCa-7color_3x3component_data.ome.tif', notebook_absdir='/Users/sainia2/Documents/…"
      ]
     },
     "execution_count": 5,
     "metadata": {},
     "output_type": "execute_result"
    }
   ],
   "source": [
    "w"
   ]
  },
  {
   "cell_type": "code",
   "execution_count": null,
   "id": "996579e3-c2be-44ff-a319-9fa3b87079b0",
   "metadata": {},
   "outputs": [],
   "source": [
    "w.imagePath"
   ]
  },
  {
   "cell_type": "code",
   "execution_count": null,
   "id": "6efc1602-d2ed-4930-99de-206d4cf08e91",
   "metadata": {},
   "outputs": [],
   "source": [
    "w.overlayPath"
   ]
  },
  {
   "cell_type": "code",
   "execution_count": null,
   "id": "10824922-af00-4294-a68a-6e293349221f",
   "metadata": {},
   "outputs": [],
   "source": [
    "w.is_imagePath_url"
   ]
  },
  {
   "cell_type": "code",
   "execution_count": null,
   "id": "3ba6af57-9fb0-4491-8d17-1b44192ace53",
   "metadata": {},
   "outputs": [],
   "source": [
    "w.imagePath = '../images/LuCa-7color_3x3component_data.ome.tif'"
   ]
  },
  {
   "cell_type": "code",
   "execution_count": null,
   "id": "fc70211c-c273-43bc-9ca4-4b0a69f4d82b",
   "metadata": {
    "scrolled": true
   },
   "outputs": [],
   "source": [
    "w"
   ]
  },
  {
   "cell_type": "code",
   "execution_count": null,
   "id": "1ef25860-fb82-4d99-917a-6da0c3366767",
   "metadata": {},
   "outputs": [],
   "source": [
    "Render(imagePath = '../images/LuCa-7color_3x3component_data.ome.tif')"
   ]
  }
 ],
 "metadata": {
  "kernelspec": {
   "display_name": "Python 3 (ipykernel)",
   "language": "python",
   "name": "python3"
  },
  "language_info": {
   "codemirror_mode": {
    "name": "ipython",
    "version": 3
   },
   "file_extension": ".py",
   "mimetype": "text/x-python",
   "name": "python",
   "nbconvert_exporter": "python",
   "pygments_lexer": "ipython3",
   "version": "3.10.14"
  }
 },
 "nbformat": 4,
 "nbformat_minor": 5
}
